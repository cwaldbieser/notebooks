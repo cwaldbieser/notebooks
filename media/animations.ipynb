{
 "cells": [
  {
   "cell_type": "code",
   "execution_count": 1,
   "metadata": {
    "collapsed": true
   },
   "outputs": [],
   "source": [
    "%matplotlib inline"
   ]
  },
  {
   "cell_type": "markdown",
   "metadata": {},
   "source": [
    "Animations\n",
    "======\n",
    "\n",
    "Matplotlib can be used to create animations of plots over time.  The animations can be converted to video, which can then be embedded in a web page using the HTML `video` element."
   ]
  },
  {
   "cell_type": "code",
   "execution_count": 10,
   "metadata": {
    "collapsed": false
   },
   "outputs": [],
   "source": [
    "from IPython.core.display import HTML\n",
    "\n",
    "def vid_player(vids):\n",
    "    \"\"\" will display html 5 player for compatible browser\n",
    "\n",
    "    Parameters :\n",
    "    ------------\n",
    "    filepath : relative filepath with respect to the notebook directory ( where the .ipynb are not cwd)\n",
    "               of the file to play\n",
    "\n",
    "    The browser need to know how to play wav through html5.\n",
    "\n",
    "    there is no autoplay to prevent file playing when the browser opens\n",
    "    \"\"\"\n",
    "    from textwrap import dedent\n",
    "    parts = []\n",
    "    parts.append(dedent(\"\"\"\\\n",
    "    <head>\n",
    "    <meta http-equiv=\"Content-Type\" content=\"text/html; charset=utf-8\">\n",
    "    <title>Simple Test</title>\n",
    "    </head>\n",
    "    <body>\n",
    "    <video controls=\"controls\" style=\"width:600px\" >\n",
    "    \"\"\"))\n",
    "    for vid in vids:\n",
    "        path = vid['path']\n",
    "        vid_type = vid.get('type', None)\n",
    "        codec = vid.get('codecs', None)\n",
    "        things = []\n",
    "        things.append(\"\"\"<source src=\"files/%s\" \"\"\" % path)\n",
    "        if vid_type is not None:\n",
    "            things.append(\"\"\" type=\"%s\" \"\"\" % vid_type)\n",
    "        if codec is not None:\n",
    "            things.append(\"\"\" codecs=\"%s\" \"\"\" % codec)\n",
    "        things.append(\"\"\" /> \"\"\")\n",
    "        parts.append(' '.join(x.strip() for x in things))\n",
    " \n",
    "    parts.append(dedent(\"\"\"\\\n",
    "      Your browser does not support the video element.\n",
    "    </video>\n",
    "    </body>\n",
    "    \"\"\"))\n",
    "    src = '\\n'.join(parts)\n",
    "    return HTML(src)"
   ]
  },
  {
   "cell_type": "code",
   "execution_count": 14,
   "metadata": {
    "collapsed": false
   },
   "outputs": [
    {
     "data": {
      "image/png": "[encoded data removed]",
      "text/plain": [
       "<matplotlib.figure.Figure at 0x7ff0710f24e0>"
      ]
     },
     "metadata": {},
     "output_type": "display_data"
    }
   ],
   "source": [
    "import numpy as np\n",
    "from matplotlib import pyplot as plt\n",
    "from matplotlib import animation\n",
    "\n",
    "# First set up the figure, the axis, and the plot element we want to animate\n",
    "fig = plt.figure()\n",
    "ax = plt.axes(xlim=(0, 2), ylim=(-2, 2))\n",
    "line, = ax.plot([], [], lw=2)\n",
    "\n",
    "# initialization function: plot the background of each frame\n",
    "def init():\n",
    "    line.set_data([], [])\n",
    "    return line,\n",
    "\n",
    "# animation function.  This is called sequentially\n",
    "def animate(i):\n",
    "    x = np.linspace(0, 2, 1000)\n",
    "    y = np.sin(2 * np.pi * (x - 0.01 * i))\n",
    "    line.set_data(x, y)\n",
    "    return line,\n",
    "\n",
    "# call the animator.  blit=True means only re-draw the parts that have changed.\n",
    "anim = animation.FuncAnimation(fig, animate, init_func=init,\n",
    "                               frames=200, interval=20, blit=True)\n",
    "\n",
    "vids = [\n",
    "        {'path': './animate/sine_animate.webm',\n",
    "         'type': 'video/webm',\n",
    "         'codecs': 'vp8, vorbis'},\n",
    "        {'path': './animate/sine_animate.mp4',\n",
    "         'type': 'video/mp4',\n",
    "         'codecs': None},]\n",
    "for vid in vids:\n",
    "    vid_type = vid['type']\n",
    "    fname = vid['path']\n",
    "    # The code to convert the video is a bit tempermental.\n",
    "    # `animation.AVConvWriter` shells out to the `avconv` tool.\n",
    "    # There is also an `FFMPEGWriter`, so the writer you use depends on the tools\n",
    "    # available on your system.\n",
    "    if vid_type == 'video/mp4':\n",
    "        writer = animation.AVConvWriter(fps=30, codec='mpeg4', bitrate=1800)\n",
    "        anim.save(fname, fps=30, writer=writer)\n",
    "        # You may have to specify extra command line args, etc.\n",
    "        # anim.save(fname, writer=writer, fps=30, extra_args=['-vcodec', 'mpeg4'])\n",
    "    elif vid_type == 'video/webm':\n",
    "        writer = animation.AVConvWriter(fps=30, codec='libvpx', bitrate=1800)\n",
    "        anim.save(fname, fps=30, writer=writer)\n"
   ]
  },
  {
   "cell_type": "code",
   "execution_count": 15,
   "metadata": {
    "collapsed": false
   },
   "outputs": [
    {
     "data": {
      "text/html": [
       "<head>\n",
       "<meta http-equiv=\"Content-Type\" content=\"text/html; charset=utf-8\">\n",
       "<title>Simple Test</title>\n",
       "</head>\n",
       "<body>\n",
       "<video controls=\"controls\" style=\"width:600px\" >\n",
       "\n",
       "<source src=\"files/./animate/sine_animate.webm\" type=\"video/webm\" codecs=\"vp8, vorbis\" />\n",
       "<source src=\"files/./animate/sine_animate.mp4\" type=\"video/mp4\" />\n",
       "  Your browser does not support the video element.\n",
       "</video>\n",
       "</body>\n"
      ],
      "text/plain": [
       "<IPython.core.display.HTML object>"
      ]
     },
     "execution_count": 15,
     "metadata": {},
     "output_type": "execute_result"
    }
   ],
   "source": [
    "vid_player(vids)"
   ]
  }
 ],
 "metadata": {
  "kernelspec": {
   "display_name": "Python 3",
   "language": "python",
   "name": "python3"
  },
  "language_info": {
   "codemirror_mode": {
    "name": "ipython",
    "version": 3
   },
   "file_extension": ".py",
   "mimetype": "text/x-python",
   "name": "python",
   "nbconvert_exporter": "python",
   "pygments_lexer": "ipython3",
   "version": "3.4.3"
  }
 },
 "nbformat": 4,
 "nbformat_minor": 0
}
